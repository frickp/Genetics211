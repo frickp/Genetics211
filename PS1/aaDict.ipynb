{
 "cells": [
  {
   "cell_type": "code",
   "execution_count": 4,
   "metadata": {
    "collapsed": true
   },
   "outputs": [],
   "source": [
    "d={\n",
    "    'ATG': 'methionine',\n",
    "    'AAA': 'lysine',\n",
    "    'TTA': 'Leucine',\n",
    "    'TTG': 'Leucine',\n",
    "    'CTT': 'Leucine',\n",
    "    'CTC': 'Leucine',\n",
    "    'CTA': 'Leucine',\n",
    "    'CTG': 'Leucine',\n",
    "    'CCT': 'Proline',\n",
    "    'CCC': 'Proline',\n",
    "    'CCA': 'Proline',\n",
    "    'CCG': 'Proline',\n",
    "}"
   ]
  },
  {
   "cell_type": "code",
   "execution_count": 5,
   "metadata": {
    "collapsed": false
   },
   "outputs": [
    {
     "data": {
      "text/plain": [
       "'methionine'"
      ]
     },
     "execution_count": 5,
     "metadata": {},
     "output_type": "execute_result"
    }
   ],
   "source": [
    "d['ATG']"
   ]
  },
  {
   "cell_type": "code",
   "execution_count": null,
   "metadata": {
    "collapsed": true
   },
   "outputs": [],
   "source": []
  }
 ],
 "metadata": {
  "kernelspec": {
   "display_name": "Python 2",
   "language": "python",
   "name": "python2"
  },
  "language_info": {
   "codemirror_mode": {
    "name": "ipython",
    "version": 2
   },
   "file_extension": ".py",
   "mimetype": "text/x-python",
   "name": "python",
   "nbconvert_exporter": "python",
   "pygments_lexer": "ipython2",
   "version": "2.7.9"
  }
 },
 "nbformat": 4,
 "nbformat_minor": 0
}
